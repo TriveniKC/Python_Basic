{
 "cells": [
  {
   "cell_type": "code",
   "execution_count": 2,
   "id": "d0feba19",
   "metadata": {},
   "outputs": [
    {
     "data": {
      "text/plain": [
       "-13"
      ]
     },
     "execution_count": 2,
     "metadata": {},
     "output_type": "execute_result"
    }
   ],
   "source": [
    "~12   #complement  (~ tilde)"
   ]
  },
  {
   "cell_type": "code",
   "execution_count": 4,
   "id": "d553cd7f",
   "metadata": {},
   "outputs": [
    {
     "data": {
      "text/plain": [
       "-45"
      ]
     },
     "execution_count": 4,
     "metadata": {},
     "output_type": "execute_result"
    }
   ],
   "source": [
    "~44"
   ]
  },
  {
   "cell_type": "code",
   "execution_count": 5,
   "id": "1d9a723d",
   "metadata": {},
   "outputs": [
    {
     "data": {
      "text/plain": [
       "12"
      ]
     },
     "execution_count": 5,
     "metadata": {},
     "output_type": "execute_result"
    }
   ],
   "source": [
    "12&13     #bitwise AND   12=00001100\n",
    "                         13=00001101\n",
    "                            00001100"
   ]
  },
  {
   "cell_type": "code",
   "execution_count": 6,
   "id": "a42dd967",
   "metadata": {},
   "outputs": [
    {
     "data": {
      "text/plain": [
       "13"
      ]
     },
     "execution_count": 6,
     "metadata": {},
     "output_type": "execute_result"
    }
   ],
   "source": [
    "12|13     #bitwise OR"
   ]
  },
  {
   "cell_type": "code",
   "execution_count": 7,
   "id": "7b946bbb",
   "metadata": {},
   "outputs": [
    {
     "data": {
      "text/plain": [
       "24"
      ]
     },
     "execution_count": 7,
     "metadata": {},
     "output_type": "execute_result"
    }
   ],
   "source": [
    "25&30"
   ]
  },
  {
   "cell_type": "code",
   "execution_count": 8,
   "id": "2e87f43e",
   "metadata": {},
   "outputs": [
    {
     "data": {
      "text/plain": [
       "1"
      ]
     },
     "execution_count": 8,
     "metadata": {},
     "output_type": "execute_result"
    }
   ],
   "source": [
    "12^13        #XOR  same 0 different 1  if it is 00 or 11 its 0,, else 01 or 10 its 1"
   ]
  },
  {
   "cell_type": "code",
   "execution_count": 9,
   "id": "2ae2e83e",
   "metadata": {},
   "outputs": [
    {
     "data": {
      "text/plain": [
       "40"
      ]
     },
     "execution_count": 9,
     "metadata": {},
     "output_type": "execute_result"
    }
   ],
   "source": [
    "10<<2     #LEFT SHIFT   "
   ]
  },
  {
   "cell_type": "code",
   "execution_count": 10,
   "id": "eafd4b3a",
   "metadata": {},
   "outputs": [
    {
     "data": {
      "text/plain": [
       "2"
      ]
     },
     "execution_count": 10,
     "metadata": {},
     "output_type": "execute_result"
    }
   ],
   "source": [
    "10>>2     #RIGHT SHIFT"
   ]
  },
  {
   "cell_type": "code",
   "execution_count": null,
   "id": "c702a3d4",
   "metadata": {},
   "outputs": [],
   "source": []
  }
 ],
 "metadata": {
  "kernelspec": {
   "display_name": "Python 3 (ipykernel)",
   "language": "python",
   "name": "python3"
  },
  "language_info": {
   "codemirror_mode": {
    "name": "ipython",
    "version": 3
   },
   "file_extension": ".py",
   "mimetype": "text/x-python",
   "name": "python",
   "nbconvert_exporter": "python",
   "pygments_lexer": "ipython3",
   "version": "3.9.12"
  }
 },
 "nbformat": 4,
 "nbformat_minor": 5
}
