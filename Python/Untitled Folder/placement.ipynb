{
 "cells": [
  {
   "cell_type": "markdown",
   "id": "e24270f7",
   "metadata": {},
   "source": [
    "# variable"
   ]
  },
  {
   "cell_type": "code",
   "execution_count": 1,
   "id": "35a02307",
   "metadata": {},
   "outputs": [
    {
     "name": "stdout",
     "output_type": "stream",
     "text": [
      "15\n",
      "5\n",
      "50\n",
      "2.0\n",
      "2\n",
      "0\n",
      "100000\n"
     ]
    }
   ],
   "source": [
    "a=10\n",
    "b=5\n",
    "c1=a+b\n",
    "c2=a-b\n",
    "c3=a*b\n",
    "c4=a/b\n",
    "print(c1)\n",
    "print(c2)\n",
    "print(c3)\n",
    "print(c4)\n",
    "c5 = a//b #floor\n",
    "c6 = a%b #remainder\n",
    "c7 = a**b #exponential\n",
    "print(c5)\n",
    "print(c6)\n",
    "print(c7)"
   ]
  },
  {
   "cell_type": "code",
   "execution_count": 2,
   "id": "3f8168cf",
   "metadata": {},
   "outputs": [
    {
     "name": "stdout",
     "output_type": "stream",
     "text": [
      "Enter the length of rectangle 2\n",
      "Enter the breadth of reactangle 2\n",
      "4\n"
     ]
    }
   ],
   "source": [
    "length = int(input(\"Enter the length of rectangle \"))\n",
    "breadth = int(input(\"Enter the breadth of reactangle \"))\n",
    "area = length*breadth\n",
    "print(area)"
   ]
  },
  {
   "cell_type": "code",
   "execution_count": 4,
   "id": "d79f3443",
   "metadata": {},
   "outputs": [
    {
     "name": "stdout",
     "output_type": "stream",
     "text": [
      "Enter number one 3\n",
      "Enter number two 4\n",
      "7\n",
      "<class 'int'>\n",
      "<class 'int'>\n",
      "<class 'int'>\n"
     ]
    }
   ],
   "source": [
    "a = int(input(\"Enter number one \"))\n",
    "b = int(input(\"Enter number two \"))\n",
    "c = a+b\n",
    "print(c)\n",
    "print(type(a))\n",
    "print(type(b))\n",
    "print(type(c))"
   ]
  },
  {
   "cell_type": "code",
   "execution_count": 5,
   "id": "312d52c9",
   "metadata": {},
   "outputs": [
    {
     "name": "stdout",
     "output_type": "stream",
     "text": [
      "sachin t-shirt number is 10\n"
     ]
    }
   ],
   "source": [
    "name = \"sachin\"\n",
    "t_shirt = 10\n",
    "\n",
    "\n",
    "print(name,\"t-shirt number is\",t_shirt)"
   ]
  },
  {
   "cell_type": "code",
   "execution_count": 6,
   "id": "2d4b6ad5",
   "metadata": {},
   "outputs": [
    {
     "name": "stdout",
     "output_type": "stream",
     "text": [
      "india is number 1 team and has won 2012  and it rank 1 captain is kholi\n"
     ]
    }
   ],
   "source": [
    "team = \"india\"\n",
    "worldcup = 2012\n",
    "captain = \"kholi\"\n",
    "rank = 1\n",
    "print(team,\"is number 1 team and has won\",worldcup,\" and it rank\",rank,\"captain is\",captain)"
   ]
  },
  {
   "cell_type": "code",
   "execution_count": 7,
   "id": "15c2e140",
   "metadata": {},
   "outputs": [
    {
     "name": "stdout",
     "output_type": "stream",
     "text": [
      "<class 'int'>\n",
      "<class 'float'>\n",
      "<class 'str'>\n"
     ]
    }
   ],
   "source": [
    "x = 56\n",
    "y = 56.78\n",
    "z = \"python\"\n",
    "print(type(x))\n",
    "print(type(y))\n",
    "print(type(z))"
   ]
  },
  {
   "cell_type": "code",
   "execution_count": 8,
   "id": "c0671573",
   "metadata": {},
   "outputs": [
    {
     "name": "stdout",
     "output_type": "stream",
     "text": [
      "10.0\n"
     ]
    }
   ],
   "source": [
    "a = float(10) \n",
    "print(a)"
   ]
  },
  {
   "cell_type": "code",
   "execution_count": 9,
   "id": "e0b73e78",
   "metadata": {},
   "outputs": [
    {
     "name": "stdout",
     "output_type": "stream",
     "text": [
      "12\n"
     ]
    }
   ],
   "source": [
    "a =int(12.56)\n",
    "print(a)"
   ]
  },
  {
   "cell_type": "code",
   "execution_count": 10,
   "id": "92da0512",
   "metadata": {},
   "outputs": [
    {
     "name": "stdout",
     "output_type": "stream",
     "text": [
      "30\n",
      "<class 'int'>\n",
      "<class 'int'>\n",
      "<class 'int'>\n"
     ]
    }
   ],
   "source": [
    "a = 10\n",
    "b = 20\n",
    "c=a+b\n",
    "print(c)\n",
    "print(type(a))\n",
    "print(type(b))\n",
    "print(type(c))"
   ]
  },
  {
   "cell_type": "code",
   "execution_count": 11,
   "id": "fb0b0794",
   "metadata": {},
   "outputs": [
    {
     "name": "stdout",
     "output_type": "stream",
     "text": [
      "enter the hour3\n",
      "3\n",
      "hour equal to 60 min\n"
     ]
    }
   ],
   "source": [
    "hour=int(60)\n",
    "print(input(\"enter the hour\"))\n",
    "print( \"hour equal to 60 min\")"
   ]
  },
  {
   "cell_type": "markdown",
   "id": "310a1329",
   "metadata": {},
   "source": [
    "# conditional statement\n"
   ]
  },
  {
   "cell_type": "markdown",
   "id": "3621eefd",
   "metadata": {},
   "source": [
    "if condition"
   ]
  },
  {
   "cell_type": "code",
   "execution_count": 12,
   "id": "478eba70",
   "metadata": {},
   "outputs": [
    {
     "name": "stdout",
     "output_type": "stream",
     "text": [
      "A is Postive number\n"
     ]
    }
   ],
   "source": [
    "a = 10\n",
    "\n",
    "if a>0:\n",
    "  print(\"A is Postive number\")"
   ]
  },
  {
   "cell_type": "code",
   "execution_count": 13,
   "id": "90bb6ca2",
   "metadata": {},
   "outputs": [],
   "source": [
    "a = -10\n",
    "\n",
    "if a>0:\n",
    "  print(\"A is Postive number\")"
   ]
  },
  {
   "cell_type": "code",
   "execution_count": 14,
   "id": "1db3d722",
   "metadata": {},
   "outputs": [
    {
     "name": "stdout",
     "output_type": "stream",
     "text": [
      "A is Negative number\n"
     ]
    }
   ],
   "source": [
    "a = -10\n",
    "\n",
    "if a>0:\n",
    "  print(\"A is Postive number\")\n",
    "else:\n",
    "  print(\"A is Negative number\")"
   ]
  },
  {
   "cell_type": "code",
   "execution_count": 15,
   "id": "0e7f3d1c",
   "metadata": {},
   "outputs": [
    {
     "name": "stdout",
     "output_type": "stream",
     "text": [
      "A is Negative number\n"
     ]
    }
   ],
   "source": [
    "a = 0\n",
    "\n",
    "if a>0:\n",
    "  print(\"A is Postive number\")\n",
    "else:\n",
    "  print(\"A is Negative number\")"
   ]
  },
  {
   "cell_type": "code",
   "execution_count": 16,
   "id": "3c0de33c",
   "metadata": {},
   "outputs": [
    {
     "name": "stdout",
     "output_type": "stream",
     "text": [
      "A is Negative number\n"
     ]
    }
   ],
   "source": [
    "a = 0\n",
    "\n",
    "if a<0:\n",
    "  print(\"A is Postive number\")\n",
    "else:\n",
    "  print(\"A is Negative number\")"
   ]
  },
  {
   "cell_type": "code",
   "execution_count": 17,
   "id": "dc6858a1",
   "metadata": {},
   "outputs": [
    {
     "name": "stdout",
     "output_type": "stream",
     "text": [
      "A is zero\n"
     ]
    }
   ],
   "source": [
    "a = 0\n",
    "\n",
    "if a>0:\n",
    "  print(\"A is Postive number\")\n",
    "elif a==0:\n",
    "  print(\"A is zero\")\n",
    "else:\n",
    "  print(\"A is Negative number\")"
   ]
  },
  {
   "cell_type": "markdown",
   "id": "35d94796",
   "metadata": {},
   "source": [
    "conditions\n"
   ]
  },
  {
   "cell_type": "code",
   "execution_count": 18,
   "id": "f2a9c223",
   "metadata": {},
   "outputs": [
    {
     "name": "stdout",
     "output_type": "stream",
     "text": [
      "the number is odd\n"
     ]
    }
   ],
   "source": [
    "x=45\n",
    "if a/2:\n",
    "    print(\"the number is even\")\n",
    "else:\n",
    "    print(\"the number is odd\")"
   ]
  },
  {
   "cell_type": "code",
   "execution_count": 19,
   "id": "85ce1966",
   "metadata": {},
   "outputs": [
    {
     "name": "stdout",
     "output_type": "stream",
     "text": [
      "leap year\n"
     ]
    }
   ],
   "source": [
    "year=2020\n",
    "if year/4:\n",
    "    print(\"leap year\")\n",
    "else:\n",
    "    print(\"not leap year\")"
   ]
  },
  {
   "cell_type": "code",
   "execution_count": 20,
   "id": "7ada95ae",
   "metadata": {},
   "outputs": [
    {
     "name": "stdout",
     "output_type": "stream",
     "text": [
      "you can vote\n"
     ]
    }
   ],
   "source": [
    "age=25\n",
    "\n",
    "if a<=18:\n",
    "    print(\"you can vote\")\n",
    "else:\n",
    "    print(\"you cannot vote\")"
   ]
  },
  {
   "cell_type": "code",
   "execution_count": 21,
   "id": "41ef7768",
   "metadata": {},
   "outputs": [
    {
     "name": "stdout",
     "output_type": "stream",
     "text": [
      "c is greater\n"
     ]
    }
   ],
   "source": [
    "a=3\n",
    "b=4\n",
    "c=5\n",
    "if (c>4):\n",
    "    print(\"c is greater\")\n",
    "else:\n",
    "    print(\"not a greater\")"
   ]
  },
  {
   "cell_type": "code",
   "execution_count": 22,
   "id": "2d6e8294",
   "metadata": {},
   "outputs": [
    {
     "name": "stdout",
     "output_type": "stream",
     "text": [
      "super\n"
     ]
    }
   ],
   "source": [
    "a=500\n",
    "b=300\n",
    "c=a+b\n",
    "if(c<1000):\n",
    "    print(\"super\")\n",
    "else:\n",
    "    print(\"greater\")"
   ]
  },
  {
   "cell_type": "markdown",
   "id": "0fbf2501",
   "metadata": {},
   "source": [
    "#    functions "
   ]
  },
  {
   "cell_type": "code",
   "execution_count": 23,
   "id": "4c159a95",
   "metadata": {},
   "outputs": [
    {
     "name": "stdout",
     "output_type": "stream",
     "text": [
      "enter the hours:3\n",
      "enter the minutes:3\n",
      "total hours= 3\n"
     ]
    }
   ],
   "source": [
    "def convert_time(hrs,min):\n",
    "    min=hrs*60+min\n",
    "    return min\n",
    "h=int(input(\"enter the hours:\"))\n",
    "m=int(input(\"enter the minutes:\"))\n",
    "m=convert_time(h,m)\n",
    "print(\"total hours=\",h)"
   ]
  },
  {
   "cell_type": "code",
   "execution_count": 24,
   "id": "6c4aa28c",
   "metadata": {},
   "outputs": [
    {
     "name": "stdout",
     "output_type": "stream",
     "text": [
      "Enter the length in cm:2\n",
      "The length in meter 0.02\n"
     ]
    }
   ],
   "source": [
    "cm=int(input(\"Enter the length in cm:\"))\n",
    "meter = cm / 100;\n",
    "print(\"The length in meter\",meter)\n"
   ]
  },
  {
   "cell_type": "code",
   "execution_count": 25,
   "id": "0cbda2a8",
   "metadata": {},
   "outputs": [
    {
     "name": "stdout",
     "output_type": "stream",
     "text": [
      "Enter value in kilometers: 3\n",
      "3.00 kilometers is equal to 1.86 miles\n"
     ]
    }
   ],
   "source": [
    "kilometers = float(input(\"Enter value in kilometers: \"))\n",
    "conv_fac = 0.621371\n",
    "miles = kilometers * conv_fac\n",
    "print('%0.2f kilometers is equal to %0.2f miles' %(kilometers,miles))\n",
    "   \n"
   ]
  },
  {
   "cell_type": "code",
   "execution_count": 26,
   "id": "326eb530",
   "metadata": {},
   "outputs": [
    {
     "name": "stdout",
     "output_type": "stream",
     "text": [
      "The principal is 8\n",
      "The time period is 4\n",
      "The rate of interest is 9\n",
      "The Simple Interest is 2.88\n"
     ]
    },
    {
     "data": {
      "text/plain": [
       "2.88"
      ]
     },
     "execution_count": 26,
     "metadata": {},
     "output_type": "execute_result"
    }
   ],
   "source": [
    "def simple_interest(p,t,r):\n",
    "    print('The principal is', p)\n",
    "    print('The time period is', t)\n",
    "    print('The rate of interest is',r)\n",
    "     \n",
    "    si = (p * t * r)/100\n",
    "    \n",
    "    print('The Simple Interest is', si)\n",
    "    return si\n",
    "simple_interest(8,4,9)"
   ]
  },
  {
   "cell_type": "code",
   "execution_count": 27,
   "id": "9d0655bb",
   "metadata": {},
   "outputs": [
    {
     "name": "stdout",
     "output_type": "stream",
     "text": [
      "Enter the pounds:3\n",
      "kilograms 1.360776\n"
     ]
    }
   ],
   "source": [
    "pounds=int(input(\"Enter the pounds:\"))\n",
    "kilograms =pounds*0.453592;\n",
    "print(\"kilograms\",kilograms)\n"
   ]
  },
  {
   "cell_type": "code",
   "execution_count": null,
   "id": "4a8f307e",
   "metadata": {},
   "outputs": [],
   "source": []
  },
  {
   "cell_type": "code",
   "execution_count": 28,
   "id": "c7ce0999",
   "metadata": {},
   "outputs": [
    {
     "name": "stdout",
     "output_type": "stream",
     "text": [
      "enter the radius of circle3\n",
      "the area of given circle: 28.259999999999998\n"
     ]
    }
   ],
   "source": [
    "r=float(input(\"enter the radius of circle\"))\n",
    "area_of_circle=3.14*r*r;\n",
    "print(\"the area of given circle:\",area_of_circle)\n"
   ]
  },
  {
   "cell_type": "code",
   "execution_count": 29,
   "id": "5c95b907",
   "metadata": {},
   "outputs": [],
   "source": [
    "def circle(radius):\n",
    "  circum=2*3.14*radius\n",
    "  print(circum)"
   ]
  },
  {
   "cell_type": "code",
   "execution_count": 30,
   "id": "07443c3c",
   "metadata": {},
   "outputs": [
    {
     "name": "stdout",
     "output_type": "stream",
     "text": [
      "31.400000000000002\n"
     ]
    }
   ],
   "source": [
    "circle(5)"
   ]
  },
  {
   "cell_type": "code",
   "execution_count": 31,
   "id": "f1abdd5a",
   "metadata": {},
   "outputs": [],
   "source": [
    "def square(side):\n",
    "  peri=4*side\n",
    "  print(peri)"
   ]
  },
  {
   "cell_type": "code",
   "execution_count": 32,
   "id": "0da633b1",
   "metadata": {},
   "outputs": [
    {
     "name": "stdout",
     "output_type": "stream",
     "text": [
      "20\n"
     ]
    }
   ],
   "source": [
    "\n",
    "square(5)"
   ]
  },
  {
   "cell_type": "markdown",
   "id": "ce947913",
   "metadata": {},
   "source": [
    "# for loop"
   ]
  },
  {
   "cell_type": "code",
   "execution_count": 33,
   "id": "bada4e27",
   "metadata": {},
   "outputs": [
    {
     "name": "stdout",
     "output_type": "stream",
     "text": [
      "35\n",
      "36\n",
      "37\n",
      "38\n",
      "39\n",
      "40\n",
      "41\n",
      "42\n",
      "43\n",
      "44\n"
     ]
    }
   ],
   "source": [
    "for i in range(35,45):\n",
    "    print(i)"
   ]
  },
  {
   "cell_type": "code",
   "execution_count": 34,
   "id": "7fb6f5d8",
   "metadata": {},
   "outputs": [
    {
     "name": "stdout",
     "output_type": "stream",
     "text": [
      "machinelearning\n",
      "machinelearning\n",
      "machinelearning\n",
      "machinelearning\n",
      "machinelearning\n",
      "machinelearning\n",
      "machinelearning\n",
      "machinelearning\n",
      "machinelearning\n",
      "machinelearning\n",
      "machinelearning\n",
      "machinelearning\n",
      "machinelearning\n",
      "machinelearning\n",
      "machinelearning\n",
      "machinelearning\n",
      "machinelearning\n",
      "machinelearning\n",
      "machinelearning\n",
      "machinelearning\n",
      "machinelearning\n",
      "machinelearning\n",
      "machinelearning\n",
      "machinelearning\n",
      "machinelearning\n",
      "machinelearning\n",
      "machinelearning\n",
      "machinelearning\n",
      "machinelearning\n",
      "machinelearning\n",
      "machinelearning\n",
      "machinelearning\n",
      "machinelearning\n",
      "machinelearning\n",
      "machinelearning\n",
      "machinelearning\n",
      "machinelearning\n",
      "machinelearning\n",
      "machinelearning\n",
      "machinelearning\n",
      "machinelearning\n",
      "machinelearning\n",
      "machinelearning\n",
      "machinelearning\n",
      "machinelearning\n",
      "machinelearning\n",
      "machinelearning\n",
      "machinelearning\n",
      "machinelearning\n",
      "machinelearning\n"
     ]
    }
   ],
   "source": [
    "for i in range(50):\n",
    "    print(\"machinelearning\")"
   ]
  },
  {
   "cell_type": "code",
   "execution_count": 35,
   "id": "7cfa2bc5",
   "metadata": {},
   "outputs": [
    {
     "name": "stdout",
     "output_type": "stream",
     "text": [
      "21\n",
      "23\n",
      "25\n",
      "27\n"
     ]
    }
   ],
   "source": [
    "for i in range (21,28,2):\n",
    "    print(i)"
   ]
  },
  {
   "cell_type": "code",
   "execution_count": 36,
   "id": "ed13e5d7",
   "metadata": {},
   "outputs": [
    {
     "name": "stdout",
     "output_type": "stream",
     "text": [
      "86\n",
      "88\n",
      "90\n",
      "92\n",
      "94\n",
      "96\n",
      "98\n"
     ]
    }
   ],
   "source": [
    "for i in range(86,100,2):\n",
    "    \n",
    "    print(i)"
   ]
  },
  {
   "cell_type": "code",
   "execution_count": 37,
   "id": "cea04c52",
   "metadata": {},
   "outputs": [
    {
     "name": "stdout",
     "output_type": "stream",
     "text": [
      "2* 1 = 2\n",
      "2* 2 = 4\n",
      "2* 3 = 6\n",
      "2* 4 = 8\n",
      "2* 5 = 10\n",
      "2* 6 = 12\n",
      "2* 7 = 14\n",
      "2* 8 = 16\n",
      "2* 9 = 18\n"
     ]
    }
   ],
   "source": [
    "for i in range(1,10):\n",
    "    print(\"2*\",i,\"=\",i*2)"
   ]
  },
  {
   "cell_type": "markdown",
   "id": "e2b05c22",
   "metadata": {},
   "source": [
    "# list"
   ]
  },
  {
   "cell_type": "code",
   "execution_count": 38,
   "id": "80ca3b88",
   "metadata": {},
   "outputs": [
    {
     "name": "stdout",
     "output_type": "stream",
     "text": [
      "2\n"
     ]
    }
   ],
   "source": [
    "a=[2,33,42,4,5,2,42]\n",
    "b=a.count(2)\n",
    "print(b)"
   ]
  },
  {
   "cell_type": "code",
   "execution_count": 39,
   "id": "2300c9d1",
   "metadata": {},
   "outputs": [
    {
     "name": "stdout",
     "output_type": "stream",
     "text": [
      "[2, 3, 4, 10]\n"
     ]
    }
   ],
   "source": [
    "a=[2,3,4]\n",
    "a.append(10)\n",
    "print(a)"
   ]
  },
  {
   "cell_type": "code",
   "execution_count": 40,
   "id": "d31b7d42",
   "metadata": {},
   "outputs": [
    {
     "name": "stdout",
     "output_type": "stream",
     "text": [
      "[4, 5, 6, 7, 8, 20]\n"
     ]
    }
   ],
   "source": [
    "a=[4,5,6,7,8]\n",
    "a.append(20)\n",
    "print(a)"
   ]
  },
  {
   "cell_type": "code",
   "execution_count": 41,
   "id": "e4948e99",
   "metadata": {},
   "outputs": [
    {
     "name": "stdout",
     "output_type": "stream",
     "text": [
      "[4, 'hello', 5, 6, 7, 8]\n"
     ]
    }
   ],
   "source": [
    "a=[4,5,6,7,8]\n",
    "a.insert(1,\"hello\")\n",
    "print(a)"
   ]
  },
  {
   "cell_type": "code",
   "execution_count": 42,
   "id": "2972a985",
   "metadata": {},
   "outputs": [
    {
     "name": "stdout",
     "output_type": "stream",
     "text": [
      "[6, 7, 'python', 8, 9, 10]\n"
     ]
    }
   ],
   "source": [
    "a=[6,7,8,9,10]\n",
    "a.insert(2,\"python\")\n",
    "print(a)"
   ]
  },
  {
   "cell_type": "code",
   "execution_count": 43,
   "id": "fb559c66",
   "metadata": {},
   "outputs": [
    {
     "name": "stdout",
     "output_type": "stream",
     "text": [
      "[1, 2, 3, 4, 5]\n"
     ]
    }
   ],
   "source": [
    "a=[3,1,5,2,4]\n",
    "a.sort()\n",
    "print(a)"
   ]
  },
  {
   "cell_type": "code",
   "execution_count": 44,
   "id": "16affa01",
   "metadata": {},
   "outputs": [
    {
     "name": "stdout",
     "output_type": "stream",
     "text": [
      "[5, 4, 3, 2, 1]\n"
     ]
    }
   ],
   "source": [
    "a=[3,1,5,2,4]\n",
    "a.sort(reverse=True)\n",
    "print(a)"
   ]
  },
  {
   "cell_type": "code",
   "execution_count": 45,
   "id": "253ff6fd",
   "metadata": {},
   "outputs": [
    {
     "name": "stdout",
     "output_type": "stream",
     "text": [
      "[2, 3, 4, 5]\n"
     ]
    }
   ],
   "source": [
    "a=[2,3,4,5]\n",
    "print(a)"
   ]
  },
  {
   "cell_type": "code",
   "execution_count": 46,
   "id": "982fd836",
   "metadata": {},
   "outputs": [
    {
     "name": "stdout",
     "output_type": "stream",
     "text": [
      "[]\n"
     ]
    }
   ],
   "source": [
    "a=[]\n",
    "print(a)"
   ]
  },
  {
   "cell_type": "code",
   "execution_count": 47,
   "id": "a41d96c8",
   "metadata": {},
   "outputs": [
    {
     "name": "stdout",
     "output_type": "stream",
     "text": [
      "[]\n"
     ]
    }
   ],
   "source": [
    "a=[2,3,4]\n",
    "a.clear()\n",
    "print(a)"
   ]
  },
  {
   "cell_type": "code",
   "execution_count": 48,
   "id": "47ae8cdb",
   "metadata": {},
   "outputs": [
    {
     "name": "stdout",
     "output_type": "stream",
     "text": [
      "[2, 3]\n"
     ]
    }
   ],
   "source": [
    "a=[2,3,4]\n",
    "a.pop()\n",
    "print(a)"
   ]
  },
  {
   "cell_type": "code",
   "execution_count": 49,
   "id": "0e0d19df",
   "metadata": {},
   "outputs": [
    {
     "name": "stdout",
     "output_type": "stream",
     "text": [
      "[2, 4]\n"
     ]
    }
   ],
   "source": [
    "a=[2,3,4]\n",
    "a.remove(3)\n",
    "print(a)"
   ]
  },
  {
   "cell_type": "code",
   "execution_count": 50,
   "id": "2123738f",
   "metadata": {},
   "outputs": [
    {
     "name": "stdout",
     "output_type": "stream",
     "text": [
      "[2, 3, 5]\n"
     ]
    }
   ],
   "source": [
    "a=[2,3,4,5]\n",
    "a.remove(a[2])\n",
    "print(a)"
   ]
  },
  {
   "cell_type": "code",
   "execution_count": 51,
   "id": "f69206c1",
   "metadata": {},
   "outputs": [
    {
     "name": "stdout",
     "output_type": "stream",
     "text": [
      "[2, 3, 4, 5, 6, 7]\n"
     ]
    }
   ],
   "source": [
    "a = [2,3,4]\n",
    "b = [5,6,7]\n",
    "a.extend(b)\n",
    "print(a)"
   ]
  },
  {
   "cell_type": "code",
   "execution_count": 52,
   "id": "5852fbb4",
   "metadata": {},
   "outputs": [
    {
     "name": "stdout",
     "output_type": "stream",
     "text": [
      "5\n"
     ]
    }
   ],
   "source": [
    "a=[2,3,4,4,4,4,4,5,6]\n",
    "b=a.count(4)\n",
    "print(b)"
   ]
  },
  {
   "cell_type": "code",
   "execution_count": 53,
   "id": "33f4fafc",
   "metadata": {},
   "outputs": [
    {
     "name": "stdout",
     "output_type": "stream",
     "text": [
      "8\n"
     ]
    }
   ],
   "source": [
    "a=[2,3,4,43,4555,4666,4455,532,6224,4372,689]\n",
    "b=a.index(6224)\n",
    "print(b)"
   ]
  },
  {
   "cell_type": "code",
   "execution_count": 54,
   "id": "5a006a13",
   "metadata": {},
   "outputs": [
    {
     "name": "stdout",
     "output_type": "stream",
     "text": [
      "[2, 3, 4, 10]\n",
      "[2, 3, 4, 10]\n"
     ]
    }
   ],
   "source": [
    "a=[2,3,4]\n",
    "b=a\n",
    "a.append(10)\n",
    "print(a)\n",
    "print(b)"
   ]
  },
  {
   "cell_type": "code",
   "execution_count": 55,
   "id": "c264976a",
   "metadata": {},
   "outputs": [
    {
     "name": "stdout",
     "output_type": "stream",
     "text": [
      "[2, 3, 4, 10]\n",
      "[2, 3, 4]\n"
     ]
    }
   ],
   "source": [
    "a=[2,3,4]\n",
    "b=a.copy()\n",
    "a.append(10)\n",
    "print(a)\n",
    "print(b)"
   ]
  },
  {
   "cell_type": "code",
   "execution_count": 56,
   "id": "b76010a5",
   "metadata": {},
   "outputs": [
    {
     "name": "stdout",
     "output_type": "stream",
     "text": [
      "[10]\n"
     ]
    }
   ],
   "source": [
    "a=[]\n",
    "b=10\n",
    "a.append(b)\n",
    "print(a)"
   ]
  },
  {
   "cell_type": "code",
   "execution_count": 57,
   "id": "92763c25",
   "metadata": {},
   "outputs": [
    {
     "name": "stdout",
     "output_type": "stream",
     "text": [
      "enter the number1\n",
      "[1]\n"
     ]
    }
   ],
   "source": [
    "a=[]\n",
    "b=int(input(\"enter the number\"))\n",
    "a.append(b)\n",
    "print(a)"
   ]
  },
  {
   "cell_type": "code",
   "execution_count": 59,
   "id": "a0913826",
   "metadata": {},
   "outputs": [
    {
     "name": "stdout",
     "output_type": "stream",
     "text": [
      "Enter the number2\n",
      "Enter the number2\n",
      "Enter the number3\n",
      "Enter the number5\n",
      "[2, 2, 3, 5]\n"
     ]
    }
   ],
   "source": [
    "a = []\n",
    "for i in range(1,5):\n",
    "  b = int(input(\"Enter the number\"))\n",
    "  a.append(b)\n",
    "print(a)"
   ]
  },
  {
   "cell_type": "code",
   "execution_count": 60,
   "id": "c72c7d66",
   "metadata": {},
   "outputs": [
    {
     "name": "stdout",
     "output_type": "stream",
     "text": [
      "2\n",
      "3\n",
      "4\n",
      "5\n",
      "6\n",
      "7\n",
      "8\n",
      "9\n",
      "10\n"
     ]
    }
   ],
   "source": [
    "a = [2,3,4,5,6,7,8,9,10]\n",
    "e = []\n",
    "o = []\n",
    "\n",
    "for i in a:\n",
    "  print(i)"
   ]
  },
  {
   "cell_type": "code",
   "execution_count": 61,
   "id": "7f269491",
   "metadata": {},
   "outputs": [
    {
     "name": "stdout",
     "output_type": "stream",
     "text": [
      "[2, 4, 6, 8, 10]\n",
      "[3, 5, 7, 9]\n"
     ]
    }
   ],
   "source": [
    "a = [2,3,4,5,6,7,8,9,10]\n",
    "e = []\n",
    "o = []\n",
    "\n",
    "for i in a:\n",
    "  if i%2==0:\n",
    "    e.append(i)\n",
    "  else:\n",
    "    o.append(i)\n",
    "print(e)\n",
    "print(o)"
   ]
  },
  {
   "cell_type": "code",
   "execution_count": 62,
   "id": "9b4086ba",
   "metadata": {},
   "outputs": [
    {
     "data": {
      "text/plain": [
       "['__add__',\n",
       " '__class__',\n",
       " '__class_getitem__',\n",
       " '__contains__',\n",
       " '__delattr__',\n",
       " '__delitem__',\n",
       " '__dir__',\n",
       " '__doc__',\n",
       " '__eq__',\n",
       " '__format__',\n",
       " '__ge__',\n",
       " '__getattribute__',\n",
       " '__getitem__',\n",
       " '__gt__',\n",
       " '__hash__',\n",
       " '__iadd__',\n",
       " '__imul__',\n",
       " '__init__',\n",
       " '__init_subclass__',\n",
       " '__iter__',\n",
       " '__le__',\n",
       " '__len__',\n",
       " '__lt__',\n",
       " '__mul__',\n",
       " '__ne__',\n",
       " '__new__',\n",
       " '__reduce__',\n",
       " '__reduce_ex__',\n",
       " '__repr__',\n",
       " '__reversed__',\n",
       " '__rmul__',\n",
       " '__setattr__',\n",
       " '__setitem__',\n",
       " '__sizeof__',\n",
       " '__str__',\n",
       " '__subclasshook__',\n",
       " 'append',\n",
       " 'clear',\n",
       " 'copy',\n",
       " 'count',\n",
       " 'extend',\n",
       " 'index',\n",
       " 'insert',\n",
       " 'pop',\n",
       " 'remove',\n",
       " 'reverse',\n",
       " 'sort']"
      ]
     },
     "execution_count": 62,
     "metadata": {},
     "output_type": "execute_result"
    }
   ],
   "source": [
    "dir(list)"
   ]
  },
  {
   "cell_type": "code",
   "execution_count": 63,
   "id": "bd9a566d",
   "metadata": {},
   "outputs": [
    {
     "name": "stdout",
     "output_type": "stream",
     "text": [
      "[2, 3, 4, 5, 6, 6, 6, 7, 8, 9, 10, 11]\n",
      "[2, 3, 4, 5, 6, 6, 6, 7, 8, 9, 10, 11]\n"
     ]
    }
   ],
   "source": [
    "a = [2,3,4,5,6,6,6,7,8,9,10]\n",
    "b=a\n",
    "a.append(11)\n",
    "print(a)\n",
    "print(b)"
   ]
  },
  {
   "cell_type": "code",
   "execution_count": 64,
   "id": "0e9c9862",
   "metadata": {},
   "outputs": [
    {
     "name": "stdout",
     "output_type": "stream",
     "text": [
      "[]\n"
     ]
    }
   ],
   "source": [
    "a = [2,3,4,5,6,6,6,7,8,9,10]\n",
    "a.clear()\n",
    "print(a)"
   ]
  },
  {
   "cell_type": "code",
   "execution_count": 65,
   "id": "5ec744f9",
   "metadata": {},
   "outputs": [
    {
     "name": "stdout",
     "output_type": "stream",
     "text": [
      "[2, 3, 4, 5, 6, 6, 6, 7, 8, 9, 10, 11]\n",
      "[2, 3, 4, 5, 6, 6, 6, 7, 8, 9, 10]\n"
     ]
    }
   ],
   "source": [
    "a = [2,3,4,5,6,6,6,7,8,9,10]\n",
    "b=a.copy()\n",
    "a.append(11)\n",
    "print(a)\n",
    "print(b)"
   ]
  },
  {
   "cell_type": "code",
   "execution_count": 66,
   "id": "4ec796e6",
   "metadata": {},
   "outputs": [
    {
     "name": "stdout",
     "output_type": "stream",
     "text": [
      "3\n"
     ]
    }
   ],
   "source": [
    "a = [2,3,4,5,6,6,6,7,8,9,10]\n",
    "b=a.count(6)\n",
    "print(b)"
   ]
  },
  {
   "cell_type": "code",
   "execution_count": 67,
   "id": "c05c86da",
   "metadata": {},
   "outputs": [
    {
     "name": "stdout",
     "output_type": "stream",
     "text": [
      "[2, 3, 4, 5, 6, 6, 6, 7, 8, 9, 10, 5, 6, 7]\n"
     ]
    }
   ],
   "source": [
    "a = [2,3,4,5,6,6,6,7,8,9,10]\n",
    "b = [5,6,7]\n",
    "a.extend(b)\n",
    "print(a)"
   ]
  },
  {
   "cell_type": "code",
   "execution_count": 68,
   "id": "44db85db",
   "metadata": {},
   "outputs": [
    {
     "name": "stdout",
     "output_type": "stream",
     "text": [
      "3\n"
     ]
    }
   ],
   "source": [
    "a = [2,3,4,5,6,6,6,7,8,9,10]\n",
    "b=a.index(5)\n",
    "print(b)"
   ]
  },
  {
   "cell_type": "code",
   "execution_count": 70,
   "id": "970fa2e0",
   "metadata": {},
   "outputs": [
    {
     "name": "stdout",
     "output_type": "stream",
     "text": [
      "[2, 3, 'tri', 4, 5, 6, 6, 6, 7, 8, 9, 10]\n"
     ]
    }
   ],
   "source": [
    "a = [2,3,4,5,6,6,6,7,8,9,10]\n",
    "a.insert(2,\"tri\")\n",
    "print(a)"
   ]
  },
  {
   "cell_type": "code",
   "execution_count": 71,
   "id": "3308c109",
   "metadata": {},
   "outputs": [
    {
     "name": "stdout",
     "output_type": "stream",
     "text": [
      "[2, 3, 4, 5, 6, 6, 6, 7, 8, 9]\n"
     ]
    }
   ],
   "source": [
    "a = [2,3,4,5,6,6,6,7,8,9,10]\n",
    "a.pop(10)\n",
    "print(a)"
   ]
  },
  {
   "cell_type": "code",
   "execution_count": 72,
   "id": "880b28f3",
   "metadata": {},
   "outputs": [
    {
     "name": "stdout",
     "output_type": "stream",
     "text": [
      "[2, 3, 4, 5, 6, 6, 6, 7, 8, 10]\n"
     ]
    }
   ],
   "source": [
    "a = [2,3,4,5,6,6,6,7,8,9,10]\n",
    "a.remove(9)\n",
    "print(a)"
   ]
  },
  {
   "cell_type": "code",
   "execution_count": 73,
   "id": "8cd50b5a",
   "metadata": {},
   "outputs": [
    {
     "name": "stdout",
     "output_type": "stream",
     "text": [
      "[10, 9, 8, 7, 6, 6, 6, 5, 4, 3, 2]\n"
     ]
    }
   ],
   "source": [
    "a = [2,3,4,5,6,6,6,7,8,9,10]\n",
    "a.sort(reverse=True)\n",
    "print(a)"
   ]
  },
  {
   "cell_type": "code",
   "execution_count": 74,
   "id": "19be8e20",
   "metadata": {},
   "outputs": [
    {
     "name": "stdout",
     "output_type": "stream",
     "text": [
      "[2, 3, 4, 5, 6, 6, 6, 7, 8, 9, 10]\n"
     ]
    }
   ],
   "source": [
    "a = [2,3,4,5,6,6,6,8,7,9,10]\n",
    "a.sort()\n",
    "print(a)"
   ]
  },
  {
   "cell_type": "code",
   "execution_count": 75,
   "id": "f55220ab",
   "metadata": {},
   "outputs": [
    {
     "name": "stdout",
     "output_type": "stream",
     "text": [
      "[7, 8, 9, 10]\n"
     ]
    }
   ],
   "source": [
    "a = [2,3,4,5,6,7,8,9,10]\n",
    "e = []\n",
    "o = []\n",
    "\n",
    "for i in a:\n",
    "  if i>6:\n",
    "    e.append(i)\n",
    "  else:\n",
    "    o.append(i)\n",
    "print(e)"
   ]
  },
  {
   "cell_type": "code",
   "execution_count": 76,
   "id": "ad7449c4",
   "metadata": {},
   "outputs": [
    {
     "name": "stdout",
     "output_type": "stream",
     "text": [
      "[1, 2, 3]\n",
      "['one', 'two', 'three']\n"
     ]
    }
   ],
   "source": [
    "a = [\"one\",1,\"two\",2,\"three\",3]\n",
    "words = []\n",
    "numbers = []\n",
    "for i in a:\n",
    "    if type(i)==str:\n",
    "        words.append(i)\n",
    "    else:\n",
    "        numbers.append(i)\n",
    "print(numbers)\n",
    "print(words)"
   ]
  },
  {
   "cell_type": "markdown",
   "id": "f9b2537a",
   "metadata": {},
   "source": [
    "# practice question\n"
   ]
  },
  {
   "cell_type": "code",
   "execution_count": null,
   "id": "ccde7a32",
   "metadata": {},
   "outputs": [],
   "source": [
    "#python Program to Print an Integer (Entered by the User)"
   ]
  },
  {
   "cell_type": "code",
   "execution_count": null,
   "id": "65dde54e",
   "metadata": {},
   "outputs": [],
   "source": [
    "a= int(input(\"enter an interger\"))\n",
    "print(a)"
   ]
  },
  {
   "cell_type": "code",
   "execution_count": null,
   "id": "122283c1",
   "metadata": {},
   "outputs": [],
   "source": [
    "#Python Program to Add Two Integers"
   ]
  },
  {
   "cell_type": "code",
   "execution_count": null,
   "id": "a4609324",
   "metadata": {},
   "outputs": [],
   "source": [
    "a=3\n",
    "b=12\n",
    "c=a+b\n",
    "print(c)"
   ]
  },
  {
   "cell_type": "code",
   "execution_count": null,
   "id": "b4811844",
   "metadata": {},
   "outputs": [],
   "source": [
    "#Python Program to Multiply two Floating Point Numbers"
   ]
  },
  {
   "cell_type": "code",
   "execution_count": null,
   "id": "31f02f19",
   "metadata": {},
   "outputs": [],
   "source": [
    "a=3.3\n",
    "b=5.5\n",
    "c=a*b\n",
    "print(c)"
   ]
  },
  {
   "cell_type": "code",
   "execution_count": null,
   "id": "0302b038",
   "metadata": {},
   "outputs": [],
   "source": [
    "#Python Program to Swap Two Numbers given by user"
   ]
  },
  {
   "cell_type": "code",
   "execution_count": null,
   "id": "1b4d1d90",
   "metadata": {},
   "outputs": [],
   "source": [
    "a=input (\"enter first number\") \n",
    "b=input (\"enter second number\")\n",
    "print (f\"numbers before swapping: a= {a},b= {b}\") \n",
    "print (f\"numbers after swapping: a= {a},b= {b}\")"
   ]
  },
  {
   "cell_type": "code",
   "execution_count": null,
   "id": "d6dad5e9",
   "metadata": {},
   "outputs": [],
   "source": [
    "#Python Program to Calculate Simple Interest"
   ]
  },
  {
   "cell_type": "code",
   "execution_count": null,
   "id": "075105ec",
   "metadata": {},
   "outputs": [],
   "source": [
    "def simple_interest(p,t,r):\n",
    "    print('The principal is', p)\n",
    "    print('The time period is', t)\n",
    "    print('The rate of interest is',r)\n",
    "     \n",
    "    si = (p * t * r)/100\n",
    "    \n",
    "    print('The Simple Interest is', si)\n",
    "    return si\n",
    "simple_interest(8,4,9)"
   ]
  },
  {
   "cell_type": "code",
   "execution_count": null,
   "id": "223a5d09",
   "metadata": {},
   "outputs": [],
   "source": [
    "#Python Program to Find the Perimeter of a Rectangle"
   ]
  },
  {
   "cell_type": "code",
   "execution_count": null,
   "id": "694e51ec",
   "metadata": {},
   "outputs": [],
   "source": [
    "l=3\n",
    "b=5\n",
    "perimeter=(2*l)+(2*b)\n",
    "print(\"perimeter of a rectangle is\",perimeter)"
   ]
  },
  {
   "cell_type": "code",
   "execution_count": null,
   "id": "44044350",
   "metadata": {},
   "outputs": [],
   "source": [
    "#Python Program to Area of rectangle"
   ]
  },
  {
   "cell_type": "code",
   "execution_count": null,
   "id": "81760270",
   "metadata": {},
   "outputs": [],
   "source": [
    "length = int(input(\"Enter the length of rectangle \"))\n",
    "breadth = int(input(\"Enter the breadth of reactangle \"))\n",
    "area = length*breadth\n",
    "print(area)"
   ]
  },
  {
   "cell_type": "code",
   "execution_count": null,
   "id": "1f57c8e6",
   "metadata": {},
   "outputs": [],
   "source": [
    "#Python Program to Area of Square"
   ]
  },
  {
   "cell_type": "code",
   "execution_count": null,
   "id": "5e1d9e0a",
   "metadata": {},
   "outputs": [],
   "source": [
    "def square(sides):\n",
    "  area=sides*sides\n",
    "  print(area)\n",
    "    "
   ]
  },
  {
   "cell_type": "code",
   "execution_count": null,
   "id": "fad84eb6",
   "metadata": {},
   "outputs": [],
   "source": [
    "square(10)"
   ]
  },
  {
   "cell_type": "code",
   "execution_count": null,
   "id": "f4e067cb",
   "metadata": {},
   "outputs": [],
   "source": [
    "#Python Program to Find the Area of a Circle"
   ]
  },
  {
   "cell_type": "code",
   "execution_count": null,
   "id": "17e870a3",
   "metadata": {},
   "outputs": [],
   "source": [
    "def circle(radius):\n",
    "    area=3.14*radius*radius\n",
    "    print(area)\n",
    "    "
   ]
  },
  {
   "cell_type": "code",
   "execution_count": null,
   "id": "865810ac",
   "metadata": {},
   "outputs": [],
   "source": [
    "circle(5)"
   ]
  },
  {
   "cell_type": "code",
   "execution_count": null,
   "id": "cb0187f8",
   "metadata": {},
   "outputs": [],
   "source": [
    "#Python Program to Find the Area of a Triangle"
   ]
  },
  {
   "cell_type": "code",
   "execution_count": null,
   "id": "c9e7b404",
   "metadata": {},
   "outputs": [],
   "source": [
    "a = 5\n",
    "b = 6\n",
    "c = 7\n",
    "s = (a + b + c) / 2\n",
    "area = (s*(s-a)*(s-b)*(s-c)) ** 0.5\n",
    "print('The area of the triangle is %0.2f' %area)"
   ]
  },
  {
   "cell_type": "markdown",
   "id": "c56fb022",
   "metadata": {},
   "source": [
    "# pattern programs"
   ]
  },
  {
   "cell_type": "code",
   "execution_count": null,
   "id": "d4f86a7e",
   "metadata": {},
   "outputs": [],
   "source": [
    "for i in range(1,5):\n",
    "    print(i)"
   ]
  },
  {
   "cell_type": "code",
   "execution_count": null,
   "id": "d71937b8",
   "metadata": {},
   "outputs": [],
   "source": [
    "for j in range(1,5):\n",
    "    print(j)"
   ]
  },
  {
   "cell_type": "code",
   "execution_count": null,
   "id": "528b1adb",
   "metadata": {},
   "outputs": [],
   "source": [
    "for j in range(1,5):\n",
    "    print(\"hello\")"
   ]
  },
  {
   "cell_type": "code",
   "execution_count": null,
   "id": "8f865baa",
   "metadata": {},
   "outputs": [],
   "source": [
    "for j in range(1,5):\n",
    "    for i in range(1,5):\n",
    "        print(i)"
   ]
  },
  {
   "cell_type": "code",
   "execution_count": null,
   "id": "e80ff752",
   "metadata": {},
   "outputs": [],
   "source": [
    "for j in range(1,5):\n",
    "    for i in range(21,25):\n",
    "        print(j,i)"
   ]
  },
  {
   "cell_type": "code",
   "execution_count": null,
   "id": "1042e6e9",
   "metadata": {},
   "outputs": [],
   "source": [
    "for j in range(1,5):\n",
    "    print(\"apple\")\n",
    "    print(\"orange\")"
   ]
  },
  {
   "cell_type": "code",
   "execution_count": null,
   "id": "3545bc72",
   "metadata": {},
   "outputs": [],
   "source": [
    "for j in range(1,5):\n",
    "    print(\"apple\")\n",
    "print(\"orange\")"
   ]
  },
  {
   "cell_type": "code",
   "execution_count": null,
   "id": "c9ba04d1",
   "metadata": {},
   "outputs": [],
   "source": [
    "print(\"*\")"
   ]
  },
  {
   "cell_type": "code",
   "execution_count": null,
   "id": "29897677",
   "metadata": {},
   "outputs": [],
   "source": [
    "print(\"*\")\n",
    "print(\"*\")\n",
    "print(\"*\")\n",
    "print(\"*\")"
   ]
  },
  {
   "cell_type": "code",
   "execution_count": null,
   "id": "f86237fc",
   "metadata": {},
   "outputs": [],
   "source": [
    "for i in range(1,5):\n",
    "    print(\"*\")"
   ]
  },
  {
   "cell_type": "code",
   "execution_count": null,
   "id": "61ddcdcb",
   "metadata": {},
   "outputs": [],
   "source": [
    "for i in range(1,5):\n",
    "    print(\"*\",end=\" \")"
   ]
  },
  {
   "cell_type": "code",
   "execution_count": null,
   "id": "33a9b008",
   "metadata": {},
   "outputs": [],
   "source": [
    "for i in range(1,5):\n",
    "    for j in range(21,25):\n",
    "        print(\"*\",end=\" \")"
   ]
  },
  {
   "cell_type": "code",
   "execution_count": null,
   "id": "fdabf15b",
   "metadata": {},
   "outputs": [],
   "source": [
    "for i in range(1,5):\n",
    "    for j in range(21,25):\n",
    "        print(\"*\",end=\" \")\n",
    "    print()"
   ]
  },
  {
   "cell_type": "code",
   "execution_count": null,
   "id": "8794b9e2",
   "metadata": {},
   "outputs": [],
   "source": [
    "for i in range(1,5):\n",
    "    for j in range(1,5):\n",
    "        if i>=j:\n",
    "            print(\"*\",end=\" \")\n",
    "    print()"
   ]
  },
  {
   "cell_type": "code",
   "execution_count": null,
   "id": "1ca512ab",
   "metadata": {},
   "outputs": [],
   "source": [
    "for i in range(1,5):\n",
    "    for j in range(1,5):\n",
    "        if i>=j:\n",
    "            print(j,end=\" \")\n",
    "    print()"
   ]
  },
  {
   "cell_type": "code",
   "execution_count": null,
   "id": "71d62553",
   "metadata": {},
   "outputs": [],
   "source": [
    "for i in range(1,5):\n",
    "    for j in range(1,5):\n",
    "        if i>=j:\n",
    "            print(i,end=\" \")\n",
    "    print()"
   ]
  },
  {
   "cell_type": "code",
   "execution_count": null,
   "id": "58b2d9b3",
   "metadata": {},
   "outputs": [],
   "source": [
    "for i in range(1,5):\n",
    "    for j in range(1,5):\n",
    "        if i>=j:\n",
    "            print(\"i\",end=\" \")\n",
    "    print()"
   ]
  },
  {
   "cell_type": "code",
   "execution_count": null,
   "id": "3e87aa5a",
   "metadata": {},
   "outputs": [],
   "source": []
  },
  {
   "cell_type": "code",
   "execution_count": null,
   "id": "716cdd16",
   "metadata": {},
   "outputs": [],
   "source": [
    "rows = int(input(\"Enter the rows \"))\n",
    "\n",
    "k = 2*rows-2\n",
    "for i in range(rows):\n",
    "  for j in range(k):\n",
    "    print(end=\" \")\n",
    "  k = k-1\n",
    "  for j in range(0,i+1):\n",
    "    print(\"*\",end=\" \")\n",
    "  print()"
   ]
  },
  {
   "cell_type": "code",
   "execution_count": null,
   "id": "6d812d5e",
   "metadata": {},
   "outputs": [],
   "source": [
    "num = int(input())\n",
    "for i in range(0,num):\n",
    "  for j in range(0,num-i-1):\n",
    "    print(end=\" \")\n",
    "  for j in range(0,i+1):\n",
    "    print(\"*\",end=\" \")\n",
    "  print(\" \")"
   ]
  },
  {
   "cell_type": "code",
   "execution_count": null,
   "id": "abc5b7b9",
   "metadata": {},
   "outputs": [],
   "source": []
  },
  {
   "cell_type": "code",
   "execution_count": null,
   "id": "9ced473a",
   "metadata": {},
   "outputs": [],
   "source": [
    "rows = int(input(\"Enter The Number Of Rows:\"))\n",
    "columns = 2*rows -1\n",
    "i = 0\n",
    "while i < rows:\n",
    "    j = 0\n",
    "    while j < columns :\n",
    "        if( (columns//2)-i <= j <= (columns//2)  +i):\n",
    "            print(\"*\",end = \"\")\n",
    "        else:\n",
    "            print(\" \",end = \"\")\n",
    "        \n",
    "        j+=1 \n",
    "    print(\" \")\n",
    "    i+=1\n",
    "    \n",
    "i = 0\n",
    "while i < rows:\n",
    "    \n",
    "    j = 0\n",
    "    while j < columns :\n",
    "        if( i <= j <= columns-1 -i):\n",
    "            print(\"*\",end = \"\")\n",
    "        else:\n",
    "            print(\" \",end = \"\")\n",
    "        \n",
    "        j+=1\n",
    "    print(\" \")\n",
    "    i+=1"
   ]
  },
  {
   "cell_type": "code",
   "execution_count": null,
   "id": "c2193905",
   "metadata": {},
   "outputs": [],
   "source": []
  },
  {
   "cell_type": "code",
   "execution_count": null,
   "id": "60ebf01d",
   "metadata": {},
   "outputs": [],
   "source": [
    "num = int(input())\n",
    "for i in range(0,num):\n",
    "  for j in range(0,num-i-1):\n",
    "    print(end=\"-\")\n",
    "  for j in range(0,i+1):\n",
    "    print(\"*\",end=\" \")\n",
    "  print(\" \")"
   ]
  },
  {
   "cell_type": "code",
   "execution_count": null,
   "id": "80b97089",
   "metadata": {},
   "outputs": [],
   "source": [
    "a = [5,1,6,3,2,44,23]\n",
    "largest = a[0]\n",
    "for i in a:\n",
    "  if i>largest:\n",
    "    largest = i\n",
    "print(\"largest number in the list  is \",largest)\n",
    "\n",
    "\n",
    "\n",
    "\n"
   ]
  },
  {
   "cell_type": "code",
   "execution_count": null,
   "id": "7faef64e",
   "metadata": {},
   "outputs": [],
   "source": [
    "a=[10,20,30,40]\n",
    "a.sort()\n",
    "print(\"the second largest:\",a[-2])"
   ]
  },
  {
   "cell_type": "code",
   "execution_count": null,
   "id": "0c18b835",
   "metadata": {},
   "outputs": [],
   "source": [
    "list1 = [11,22,1,2,5,67,21,32]\n",
    "new_list = set(list1)\n",
    "new_list.remove(max(new_list))\n",
    "print(max(new_list))"
   ]
  },
  {
   "cell_type": "markdown",
   "id": "072e7c4d",
   "metadata": {},
   "source": [
    "# dictionary"
   ]
  },
  {
   "cell_type": "code",
   "execution_count": null,
   "id": "a2739d4a",
   "metadata": {},
   "outputs": [],
   "source": [
    " def add(a,b):\n",
    "    c = a+b\n",
    "    print(c)"
   ]
  },
  {
   "cell_type": "code",
   "execution_count": null,
   "id": "97ad0aef",
   "metadata": {},
   "outputs": [],
   "source": [
    "add(2,5)"
   ]
  },
  {
   "cell_type": "code",
   "execution_count": null,
   "id": "a2cf8444",
   "metadata": {},
   "outputs": [],
   "source": [
    "def myadd(x,y):\n",
    "  z = x+y\n",
    "  return z"
   ]
  },
  {
   "cell_type": "code",
   "execution_count": null,
   "id": "ed448474",
   "metadata": {},
   "outputs": [],
   "source": [
    "add(5,5)"
   ]
  },
  {
   "cell_type": "code",
   "execution_count": null,
   "id": "c3c47aea",
   "metadata": {},
   "outputs": [],
   "source": [
    "d = myadd(2,5)\n",
    "print(d+3)\n",
    "d2 = d*2\n",
    "print(d2)"
   ]
  },
  {
   "cell_type": "code",
   "execution_count": null,
   "id": "a40b59f3",
   "metadata": {},
   "outputs": [],
   "source": [
    "a = 10\n",
    "b = float(a)\n",
    "print(b)\n",
    "b1 = b+2\n",
    "print(b1)"
   ]
  },
  {
   "cell_type": "markdown",
   "id": "5d1f0f2d",
   "metadata": {},
   "source": [
    "# Dictionary"
   ]
  },
  {
   "cell_type": "code",
   "execution_count": 77,
   "id": "6aabe0a7",
   "metadata": {},
   "outputs": [
    {
     "name": "stdout",
     "output_type": "stream",
     "text": [
      "{'a': 10}\n",
      "<class 'dict'>\n"
     ]
    }
   ],
   "source": [
    "a = [10,3.14,\"Hello\"]\n",
    "b = {\"a\":10} #key:value -> 1 item\n",
    "print(b)\n",
    "print(type(b))"
   ]
  },
  {
   "cell_type": "code",
   "execution_count": 78,
   "id": "d1ee8260",
   "metadata": {},
   "outputs": [
    {
     "name": "stdout",
     "output_type": "stream",
     "text": [
      "{'a': 1, 'b': 2, 'c': 3}\n",
      "<class 'dict'>\n",
      "3\n"
     ]
    }
   ],
   "source": [
    "d={\"a\":1,\"b\":2,\"c\":3}\n",
    "print(d)\n",
    "print(type(d))\n",
    "print(len(d))"
   ]
  },
  {
   "cell_type": "code",
   "execution_count": 79,
   "id": "e475be56",
   "metadata": {},
   "outputs": [
    {
     "name": "stdout",
     "output_type": "stream",
     "text": [
      "{'a': 1, 'b': 2, 'c': 3, 'e': 10}\n"
     ]
    }
   ],
   "source": [
    "d={\"a\":1,\"b\":2,\"c\":3}\n",
    "d[\"e\"]=10\n",
    "print(d)"
   ]
  },
  {
   "cell_type": "code",
   "execution_count": 80,
   "id": "b514a1b3",
   "metadata": {},
   "outputs": [
    {
     "name": "stdout",
     "output_type": "stream",
     "text": [
      "1\n"
     ]
    }
   ],
   "source": [
    "d = {\"a\":1,\"b\":2,\"c\":3} \n",
    "print(d[\"a\"])"
   ]
  },
  {
   "cell_type": "code",
   "execution_count": 81,
   "id": "66055b29",
   "metadata": {},
   "outputs": [
    {
     "name": "stdout",
     "output_type": "stream",
     "text": [
      "a\n",
      "b\n",
      "c\n",
      "e\n"
     ]
    }
   ],
   "source": [
    "d = {'a': 1, 'b': 2, 'c': 3, 'e': 10}\n",
    "\n",
    "for i in d.keys():\n",
    "  print(i)"
   ]
  },
  {
   "cell_type": "code",
   "execution_count": 82,
   "id": "d3559943",
   "metadata": {},
   "outputs": [
    {
     "name": "stdout",
     "output_type": "stream",
     "text": [
      "1\n",
      "2\n",
      "3\n",
      "10\n"
     ]
    }
   ],
   "source": [
    "d = {'a': 1, 'b': 2, 'c': 3, 'e': 10}\n",
    "\n",
    "for i in d.values():\n",
    "  print(i)"
   ]
  },
  {
   "cell_type": "code",
   "execution_count": 83,
   "id": "0004f0f5",
   "metadata": {},
   "outputs": [
    {
     "name": "stdout",
     "output_type": "stream",
     "text": [
      "a\n",
      "b\n",
      "c\n",
      "e\n"
     ]
    }
   ],
   "source": [
    "d = {'a': 1, 'b': 2, 'c': 3, 'e': 10}\n",
    "\n",
    "for i,j in d.items():\n",
    "  print(i)"
   ]
  },
  {
   "cell_type": "code",
   "execution_count": 84,
   "id": "abb94f9a",
   "metadata": {},
   "outputs": [
    {
     "name": "stdout",
     "output_type": "stream",
     "text": [
      "1\n",
      "2\n",
      "3\n",
      "10\n"
     ]
    }
   ],
   "source": [
    "d = {'a': 1, 'b': 2, 'c': 3, 'e': 10}\n",
    "\n",
    "for i,j in d.items():\n",
    "  print(j)"
   ]
  },
  {
   "cell_type": "code",
   "execution_count": 85,
   "id": "bdbb4b42",
   "metadata": {},
   "outputs": [
    {
     "name": "stdout",
     "output_type": "stream",
     "text": [
      "yes\n"
     ]
    }
   ],
   "source": [
    "d = {'a': 1, 'b': 2, 'c': 3, 'e': 10}\n",
    "\n",
    "if \"a\" in d.keys():\n",
    "  print(\"yes\")\n",
    "else:\n",
    "  print(\"No\")"
   ]
  },
  {
   "cell_type": "code",
   "execution_count": 86,
   "id": "d731c8d3",
   "metadata": {},
   "outputs": [
    {
     "name": "stdout",
     "output_type": "stream",
     "text": [
      "yes\n"
     ]
    }
   ],
   "source": [
    "d = {'a': 1, 'b': 2, 'c': 3, 'e': 10}\n",
    "\n",
    "if 2 in d.values():\n",
    "  print(\"yes\")\n",
    "else:\n",
    "  print(\"No\")"
   ]
  },
  {
   "cell_type": "code",
   "execution_count": 87,
   "id": "aa9061a1",
   "metadata": {},
   "outputs": [
    {
     "name": "stdout",
     "output_type": "stream",
     "text": [
      "{}\n"
     ]
    }
   ],
   "source": [
    "d = {'a': 1, 'b': 2, 'c': 3, 'e': 10}\n",
    "\n",
    "d.clear()\n",
    "print(d)"
   ]
  },
  {
   "cell_type": "code",
   "execution_count": 89,
   "id": "3514c4af",
   "metadata": {},
   "outputs": [
    {
     "name": "stdout",
     "output_type": "stream",
     "text": [
      "3\n",
      "None\n"
     ]
    }
   ],
   "source": [
    "d = {'a': 1, 'b': 2, 'c': 3, 'e': 10}\n",
    "print(d.get(\"c\"))\n",
    "print(d.get(\"m\"))"
   ]
  },
  {
   "cell_type": "markdown",
   "id": "84089cbe",
   "metadata": {},
   "source": [
    "# set"
   ]
  },
  {
   "cell_type": "code",
   "execution_count": 90,
   "id": "fbeb70ba",
   "metadata": {},
   "outputs": [
    {
     "name": "stdout",
     "output_type": "stream",
     "text": [
      "<class 'list'>\n",
      "<class 'dict'>\n",
      "<class 'set'>\n"
     ]
    }
   ],
   "source": [
    "a = [2,3,4]\n",
    "b = {\"a\":10}\n",
    "c = {2,3,4}\n",
    "\n",
    "print(type(a))\n",
    "print(type(b))\n",
    "print(type(c))"
   ]
  },
  {
   "cell_type": "code",
   "execution_count": 91,
   "id": "b39a1fa2",
   "metadata": {},
   "outputs": [
    {
     "name": "stdout",
     "output_type": "stream",
     "text": [
      "{2, 3, 4, 5}\n",
      "4\n"
     ]
    }
   ],
   "source": [
    "a = {2,3,3,3,3,3,3,3,4,5}\n",
    "print(a)\n",
    "print(len(a))"
   ]
  },
  {
   "cell_type": "code",
   "execution_count": 92,
   "id": "8eebf4ae",
   "metadata": {},
   "outputs": [
    {
     "name": "stdout",
     "output_type": "stream",
     "text": [
      "{2, 3, 4, 5, 6, 7}\n"
     ]
    }
   ],
   "source": [
    "a = {2,3,4}\n",
    "b = {5,6,7}\n",
    "c = a.union(b)\n",
    "print(c)"
   ]
  },
  {
   "cell_type": "code",
   "execution_count": 93,
   "id": "8323673a",
   "metadata": {},
   "outputs": [
    {
     "name": "stdout",
     "output_type": "stream",
     "text": [
      "{3}\n"
     ]
    }
   ],
   "source": [
    "a = {2,3,4}\n",
    "b = {5,6,7,3}\n",
    "c = a.intersection(b)\n",
    "print(c)"
   ]
  },
  {
   "cell_type": "code",
   "execution_count": 94,
   "id": "b3a57ef6",
   "metadata": {},
   "outputs": [
    {
     "data": {
      "text/plain": [
       "True"
      ]
     },
     "execution_count": 94,
     "metadata": {},
     "output_type": "execute_result"
    }
   ],
   "source": [
    "a = {2,3,4,5,6} # National team\n",
    "b = {3,4} # indian team\n",
    "b.issubset(a)"
   ]
  },
  {
   "cell_type": "code",
   "execution_count": 96,
   "id": "278780a5",
   "metadata": {},
   "outputs": [
    {
     "data": {
      "text/plain": [
       "True"
      ]
     },
     "execution_count": 96,
     "metadata": {},
     "output_type": "execute_result"
    }
   ],
   "source": [
    "a={2,3,4,5,6}\n",
    "b={3,4}\n",
    "b.issuperset(b)"
   ]
  },
  {
   "cell_type": "code",
   "execution_count": 97,
   "id": "b1d4c032",
   "metadata": {},
   "outputs": [
    {
     "data": {
      "text/plain": [
       "False"
      ]
     },
     "execution_count": 97,
     "metadata": {},
     "output_type": "execute_result"
    }
   ],
   "source": [
    "a={2,3,4,5,6}\n",
    "b={3,4}\n",
    "b.issuperset(a)"
   ]
  },
  {
   "cell_type": "code",
   "execution_count": 98,
   "id": "8ef90e15",
   "metadata": {},
   "outputs": [
    {
     "data": {
      "text/plain": [
       "False"
      ]
     },
     "execution_count": 98,
     "metadata": {},
     "output_type": "execute_result"
    }
   ],
   "source": [
    "a={2,3,4,5,6}\n",
    "b={13,14}\n",
    "b.isdisjoint(b)"
   ]
  },
  {
   "cell_type": "code",
   "execution_count": 100,
   "id": "568c114d",
   "metadata": {},
   "outputs": [
    {
     "name": "stdout",
     "output_type": "stream",
     "text": [
      "{3, 4}\n"
     ]
    }
   ],
   "source": [
    "a={2,3,4}\n",
    "a.remove(2)\n",
    "print(a)"
   ]
  },
  {
   "cell_type": "code",
   "execution_count": 101,
   "id": "82bddaa6",
   "metadata": {},
   "outputs": [
    {
     "ename": "KeyError",
     "evalue": "32",
     "output_type": "error",
     "traceback": [
      "\u001b[1;31m---------------------------------------------------------------------------\u001b[0m",
      "\u001b[1;31mKeyError\u001b[0m                                  Traceback (most recent call last)",
      "Input \u001b[1;32mIn [101]\u001b[0m, in \u001b[0;36m<cell line: 2>\u001b[1;34m()\u001b[0m\n\u001b[0;32m      1\u001b[0m a\u001b[38;5;241m=\u001b[39m{\u001b[38;5;241m2\u001b[39m,\u001b[38;5;241m3\u001b[39m,\u001b[38;5;241m4\u001b[39m}\n\u001b[1;32m----> 2\u001b[0m \u001b[43ma\u001b[49m\u001b[38;5;241;43m.\u001b[39;49m\u001b[43mremove\u001b[49m\u001b[43m(\u001b[49m\u001b[38;5;241;43m32\u001b[39;49m\u001b[43m)\u001b[49m\n\u001b[0;32m      3\u001b[0m \u001b[38;5;28mprint\u001b[39m(a)\n",
      "\u001b[1;31mKeyError\u001b[0m: 32"
     ]
    }
   ],
   "source": [
    "a={2,3,4}\n",
    "a.remove(32)\n",
    "print(a)"
   ]
  },
  {
   "cell_type": "code",
   "execution_count": 102,
   "id": "8725094f",
   "metadata": {},
   "outputs": [
    {
     "name": "stdout",
     "output_type": "stream",
     "text": [
      "{3, 4}\n"
     ]
    }
   ],
   "source": [
    "a = {2,3,4}\n",
    "a.discard(2)\n",
    "print(a)"
   ]
  },
  {
   "cell_type": "code",
   "execution_count": 103,
   "id": "55fb90ea",
   "metadata": {},
   "outputs": [
    {
     "name": "stdout",
     "output_type": "stream",
     "text": [
      "{10, 2, 3, 4}\n"
     ]
    }
   ],
   "source": [
    "a = {2,3,4}\n",
    "a.add(10)\n",
    "print(a)"
   ]
  },
  {
   "cell_type": "code",
   "execution_count": 104,
   "id": "6cba742a",
   "metadata": {},
   "outputs": [
    {
     "name": "stdout",
     "output_type": "stream",
     "text": [
      "{2}\n"
     ]
    }
   ],
   "source": [
    "a = set()\n",
    "a.add(2)\n",
    "print(a)"
   ]
  },
  {
   "cell_type": "code",
   "execution_count": 105,
   "id": "1a9b8430",
   "metadata": {},
   "outputs": [
    {
     "name": "stdout",
     "output_type": "stream",
     "text": [
      "Enter element : 20\n",
      "Enter element : 30\n",
      "Enter element : 40\n",
      "Enter element : 50\n",
      "{40, 50, 20, 30}\n"
     ]
    }
   ],
   "source": [
    "a = set()\n",
    "for i in range(1,5):\n",
    "  x = int(input(\"Enter element : \"))\n",
    "  a.add(x) #set is unordered # add randomly not in order\n",
    "print(a)"
   ]
  },
  {
   "cell_type": "markdown",
   "id": "a5b9750d",
   "metadata": {},
   "source": [
    "# while"
   ]
  },
  {
   "cell_type": "code",
   "execution_count": 106,
   "id": "04093118",
   "metadata": {},
   "outputs": [
    {
     "name": "stdout",
     "output_type": "stream",
     "text": [
      "9\n"
     ]
    }
   ],
   "source": [
    "n = 153\n",
    "\n",
    "total = 0\n",
    "\n",
    "while n>0:\n",
    "  remainder = n%10\n",
    "  total = total+remainder\n",
    "  n = n//10\n",
    "\n",
    "print(total)"
   ]
  },
  {
   "cell_type": "code",
   "execution_count": 107,
   "id": "1fae2ff8",
   "metadata": {},
   "outputs": [
    {
     "name": "stdout",
     "output_type": "stream",
     "text": [
      "total 3\n",
      "remainder 3\n",
      "n 15\n",
      "**********\n",
      "total 8\n",
      "remainder 5\n",
      "n 1\n",
      "**********\n",
      "total 9\n",
      "remainder 1\n",
      "n 0\n",
      "**********\n",
      "Final Total 9\n"
     ]
    }
   ],
   "source": [
    "n = 153\n",
    "\n",
    "total = 0\n",
    "\n",
    "while n>0:\n",
    "  remainder = n%10\n",
    "  total = total+remainder\n",
    "  n = n//10\n",
    "  print(\"total\",total)\n",
    "  print(\"remainder\",remainder)\n",
    "  print(\"n\",n)\n",
    "  print(\"**********\")\n",
    "\n",
    "print(\"Final Total\",total)"
   ]
  },
  {
   "cell_type": "code",
   "execution_count": 109,
   "id": "d25e3dbe",
   "metadata": {},
   "outputs": [],
   "source": [
    "def findsumofdigits(n):\n",
    "  total = 0\n",
    "\n",
    "  while n>0:\n",
    "    remainder = n%10\n",
    "    total = total+remainder\n",
    "    n = n//10\n",
    "\n",
    "  print(total)"
   ]
  },
  {
   "cell_type": "code",
   "execution_count": 110,
   "id": "71e7849c",
   "metadata": {},
   "outputs": [
    {
     "name": "stdout",
     "output_type": "stream",
     "text": [
      "18\n"
     ]
    }
   ],
   "source": [
    "findsumofdigits(123123123)"
   ]
  },
  {
   "cell_type": "code",
   "execution_count": 111,
   "id": "52f44ab4",
   "metadata": {},
   "outputs": [
    {
     "ename": "SyntaxError",
     "evalue": "cannot assign to operator (3287908969.py, line 2)",
     "output_type": "error",
     "traceback": [
      "\u001b[1;36m  Input \u001b[1;32mIn [111]\u001b[1;36m\u001b[0m\n\u001b[1;33m    153%10 =>3\u001b[0m\n\u001b[1;37m    ^\u001b[0m\n\u001b[1;31mSyntaxError\u001b[0m\u001b[1;31m:\u001b[0m cannot assign to operator\n"
     ]
    }
   ],
   "source": [
    "total = 0\n",
    "153%10 =>3\n",
    "0+3=>3\n",
    "n = 15\n",
    "\n",
    "-----------\n",
    "total = 3\n",
    "n = 15\n",
    "15%10 = 5\n",
    "3+5 = 8\n",
    "1\n",
    "\n",
    "------------\n",
    "total = 8\n",
    "n = 1\n",
    "\n",
    "1%10 =1\n",
    "8+1 = 9\n",
    "1//10 =0\n",
    "-----------\n",
    "total = 9\n",
    "n = 0"
   ]
  },
  {
   "cell_type": "code",
   "execution_count": 112,
   "id": "0e9343a5",
   "metadata": {},
   "outputs": [
    {
     "name": "stdout",
     "output_type": "stream",
     "text": [
      "1\n",
      "2\n",
      "3\n",
      "4\n",
      "5\n",
      "6\n",
      "7\n",
      "8\n",
      "9\n"
     ]
    }
   ],
   "source": [
    "likes = 0\n",
    "\n",
    "for i in range(1,10):\n",
    "  likes = likes+1\n",
    "  print(likes)"
   ]
  },
  {
   "cell_type": "code",
   "execution_count": 4,
   "id": "22d55b78",
   "metadata": {},
   "outputs": [
    {
     "name": "stdout",
     "output_type": "stream",
     "text": [
      "enter the number of rows5\n",
      "* \n",
      "* * \n",
      "* * * \n",
      "* * * * \n",
      "* * * * * \n"
     ]
    }
   ],
   "source": [
    "num=int(input(\"enter the number of rows\"))\n",
    "for i in range(1,num+1):\n",
    "    for j in range(1,i+1):\n",
    "        print(\"*\",end=\" \")\n",
    "    print()"
   ]
  },
  {
   "cell_type": "code",
   "execution_count": 6,
   "id": "f88f47fb",
   "metadata": {},
   "outputs": [
    {
     "name": "stdout",
     "output_type": "stream",
     "text": [
      "enter the number of rows4\n",
      "   * \n",
      "  * * \n",
      " * * * \n",
      "* * * * \n"
     ]
    }
   ],
   "source": [
    "num=int(input(\"enter the number of rows\"))\n",
    "for i in range (0,num):\n",
    "    for j in range(0,num-i-1):\n",
    "        print(end=\" \")\n",
    "    for j in range(0,i+1):\n",
    "            print(\"*\",end=\" \")\n",
    "    print()"
   ]
  },
  {
   "cell_type": "code",
   "execution_count": 8,
   "id": "664145a0",
   "metadata": {},
   "outputs": [
    {
     "name": "stdout",
     "output_type": "stream",
     "text": [
      "enter the number of rows4\n",
      "   *\n",
      "  ***\n",
      " *****\n",
      "*******\n"
     ]
    }
   ],
   "source": [
    "num=int(input(\"enter the number of rows\"))\n",
    "for i in range (0,num):\n",
    "    for j in range(0,num-i-1):\n",
    "        print(end=\" \")\n",
    "    for j in range(0,2*i+1):\n",
    "            print(\"*\",end=\"\")\n",
    "    print()"
   ]
  },
  {
   "cell_type": "code",
   "execution_count": 10,
   "id": "524fdf2d",
   "metadata": {},
   "outputs": [
    {
     "name": "stderr",
     "output_type": "stream",
     "text": [
      "<>:3: SyntaxWarning: 'str' object is not callable; perhaps you missed a comma?\n",
      "<>:3: SyntaxWarning: 'str' object is not callable; perhaps you missed a comma?\n",
      "C:\\Users\\Triveni K C\\AppData\\Local\\Temp\\ipykernel_11528\\2729489620.py:3: SyntaxWarning: 'str' object is not callable; perhaps you missed a comma?\n",
      "  print(''(rows-i-1)+'*'*(2*i+1))\n"
     ]
    }
   ],
   "source": [
    "def pyramid(rows):\n",
    "        for i in range(rows):\n",
    "                print(''(rows-i-1)+'*'*(2*i+1))"
   ]
  },
  {
   "cell_type": "code",
   "execution_count": 15,
   "id": "6fc46988",
   "metadata": {},
   "outputs": [
    {
     "name": "stdout",
     "output_type": "stream",
     "text": [
      "enter the number of rows:4\n",
      "* * * * \n",
      " * * * \n",
      "  * * \n",
      "   * \n"
     ]
    }
   ],
   "source": [
    "num=int(input(\"enter the number of rows:\"))\n",
    "for i in range(num,0,-1):\n",
    "    for j in range(0,num-i):\n",
    "        print(end=\" \")\n",
    "    for j in range(0,i):\n",
    "        print(\"*\",end=\" \")\n",
    "    print()"
   ]
  },
  {
   "cell_type": "markdown",
   "id": "80de49b0",
   "metadata": {},
   "source": [
    "# OOPs"
   ]
  },
  {
   "cell_type": "code",
   "execution_count": 2,
   "id": "2e411e46",
   "metadata": {},
   "outputs": [
    {
     "name": "stdout",
     "output_type": "stream",
     "text": [
      "10\n",
      "20\n"
     ]
    }
   ],
   "source": [
    "class box:\n",
    "    length = 10\n",
    "    breadth = 20\n",
    "    \n",
    "    print(length)\n",
    "    print(breadth)"
   ]
  },
  {
   "cell_type": "code",
   "execution_count": 6,
   "id": "39482f5b",
   "metadata": {},
   "outputs": [
    {
     "name": "stdout",
     "output_type": "stream",
     "text": [
      "10\n",
      "20\n"
     ]
    }
   ],
   "source": [
    "class box:\n",
    "    length = 10\n",
    "    breadth = 20\n",
    "    \n",
    "bo = box()\n",
    "print(bo.length)\n",
    "print(bo.breadth)"
   ]
  },
  {
   "cell_type": "code",
   "execution_count": 7,
   "id": "87038d3d",
   "metadata": {},
   "outputs": [
    {
     "name": "stdout",
     "output_type": "stream",
     "text": [
      "10\n",
      "20\n"
     ]
    },
    {
     "ename": "NameError",
     "evalue": "name 'bo' is not defined",
     "output_type": "error",
     "traceback": [
      "\u001b[1;31m---------------------------------------------------------------------------\u001b[0m",
      "\u001b[1;31mNameError\u001b[0m                                 Traceback (most recent call last)",
      "Input \u001b[1;32mIn [7]\u001b[0m, in \u001b[0;36m<cell line: 9>\u001b[1;34m()\u001b[0m\n\u001b[0;32m      7\u001b[0m \u001b[38;5;28mprint\u001b[39m(bo\u001b[38;5;241m.\u001b[39mbreadth)\n\u001b[0;32m      8\u001b[0m \u001b[38;5;28;01mdel\u001b[39;00m bo\n\u001b[1;32m----> 9\u001b[0m \u001b[38;5;28mprint\u001b[39m(\u001b[43mbo\u001b[49m\u001b[38;5;241m.\u001b[39mlength)\n\u001b[0;32m     10\u001b[0m \u001b[38;5;28mprint\u001b[39m(bo\u001b[38;5;241m.\u001b[39mbreadth)\n",
      "\u001b[1;31mNameError\u001b[0m: name 'bo' is not defined"
     ]
    }
   ],
   "source": [
    "class box:\n",
    "    length = 10\n",
    "    breadth = 20\n",
    "    \n",
    "bo = box()\n",
    "print(bo.length)\n",
    "print(bo.breadth)\n",
    "del bo\n",
    "print(bo.length)\n",
    "print(bo.breadth)"
   ]
  },
  {
   "cell_type": "code",
   "execution_count": 11,
   "id": "94a2ca4e",
   "metadata": {},
   "outputs": [
    {
     "name": "stdout",
     "output_type": "stream",
     "text": [
      "10\n",
      "10\n",
      "10\n"
     ]
    }
   ],
   "source": [
    "class Rectangle:\n",
    "    l=10\n",
    "    b=4\n",
    "or1=Rectangle()\n",
    "or2=Rectangle()\n",
    "or3=Rectangle()\n",
    "\n",
    "print(or1.l)\n",
    "print(or2.l)\n",
    "print(or3.l)"
   ]
  },
  {
   "cell_type": "code",
   "execution_count": 12,
   "id": "3201f23e",
   "metadata": {},
   "outputs": [
    {
     "name": "stdout",
     "output_type": "stream",
     "text": [
      "Hello\n"
     ]
    }
   ],
   "source": [
    "def f1():\n",
    "  print(\"Hello\")\n",
    "f1()"
   ]
  },
  {
   "cell_type": "code",
   "execution_count": 13,
   "id": "56980513",
   "metadata": {},
   "outputs": [
    {
     "name": "stdout",
     "output_type": "stream",
     "text": [
      "15\n"
     ]
    },
    {
     "ename": "TypeError",
     "evalue": "j1() takes 0 positional arguments but 1 was given",
     "output_type": "error",
     "traceback": [
      "\u001b[1;31m---------------------------------------------------------------------------\u001b[0m",
      "\u001b[1;31mTypeError\u001b[0m                                 Traceback (most recent call last)",
      "Input \u001b[1;32mIn [13]\u001b[0m, in \u001b[0;36m<cell line: 10>\u001b[1;34m()\u001b[0m\n\u001b[0;32m      8\u001b[0m sa \u001b[38;5;241m=\u001b[39m Square()\n\u001b[0;32m      9\u001b[0m \u001b[38;5;28mprint\u001b[39m(sa\u001b[38;5;241m.\u001b[39ml)\n\u001b[1;32m---> 10\u001b[0m \u001b[43msa\u001b[49m\u001b[38;5;241;43m.\u001b[39;49m\u001b[43mj1\u001b[49m\u001b[43m(\u001b[49m\u001b[43m)\u001b[49m\n",
      "\u001b[1;31mTypeError\u001b[0m: j1() takes 0 positional arguments but 1 was given"
     ]
    }
   ],
   "source": [
    "class Square:\n",
    "  l = 15\n",
    "  b = 3\n",
    "\n",
    "  def j1():\n",
    "    print(\"Welcome\")\n",
    "\n",
    "sa = Square()\n",
    "print(sa.l)\n",
    "sa.j1()"
   ]
  },
  {
   "cell_type": "code",
   "execution_count": 14,
   "id": "457b5335",
   "metadata": {},
   "outputs": [
    {
     "name": "stdout",
     "output_type": "stream",
     "text": [
      "15\n",
      "Welcome\n"
     ]
    }
   ],
   "source": [
    "def j1():\n",
    "  print(\"Hello\")\n",
    "\n",
    "class Square:\n",
    "  l = 15\n",
    "  b = 3\n",
    "\n",
    "  def j1(self):\n",
    "    print(\"Welcome\")\n",
    "\n",
    "sa = Square()\n",
    "print(sa.l)\n",
    "sa.j1()"
   ]
  },
  {
   "cell_type": "code",
   "execution_count": 15,
   "id": "792f4333",
   "metadata": {},
   "outputs": [
    {
     "name": "stdout",
     "output_type": "stream",
     "text": [
      "15\n",
      "Welcome 4\n"
     ]
    }
   ],
   "source": [
    "l = 2\n",
    "b = 2\n",
    "\n",
    "class Square:\n",
    "  l = 15\n",
    "  b = 3\n",
    "\n",
    "  def j1(self):\n",
    "    print(\"Welcome\",l*b)\n",
    "\n",
    "sa = Square()\n",
    "print(sa.l)\n",
    "sa.j1()"
   ]
  },
  {
   "cell_type": "code",
   "execution_count": 16,
   "id": "e274bca4",
   "metadata": {},
   "outputs": [
    {
     "name": "stdout",
     "output_type": "stream",
     "text": [
      "15\n",
      "Welcome 45\n"
     ]
    }
   ],
   "source": [
    "l = 2\n",
    "b = 2\n",
    "\n",
    "class Square:\n",
    "  l = 15\n",
    "  b = 3\n",
    "\n",
    "  def j1(self):\n",
    "    print(\"Welcome\",self.l*self.b)\n",
    "\n",
    "sa = Square()\n",
    "print(sa.l)\n",
    "sa.j1()\n"
   ]
  },
  {
   "cell_type": "markdown",
   "id": "1e795189",
   "metadata": {},
   "source": [
    "# Inheritance"
   ]
  },
  {
   "cell_type": "code",
   "execution_count": 19,
   "id": "18aae3f5",
   "metadata": {},
   "outputs": [
    {
     "name": "stdout",
     "output_type": "stream",
     "text": [
      "10\n",
      "20\n"
     ]
    }
   ],
   "source": [
    "class A:\n",
    "    x = 10\n",
    "class B(A):\n",
    "    y = 20\n",
    "ob=B()\n",
    "print(ob.x)\n",
    "print(ob.y)"
   ]
  },
  {
   "cell_type": "markdown",
   "id": "56141313",
   "metadata": {},
   "source": [
    "# Polymorphism"
   ]
  },
  {
   "cell_type": "code",
   "execution_count": 21,
   "id": "fd135b8a",
   "metadata": {},
   "outputs": [
    {
     "name": "stdout",
     "output_type": "stream",
     "text": [
      "10\n",
      "20\n",
      "Hello\n"
     ]
    }
   ],
   "source": [
    "class A:\n",
    "    x=10\n",
    "    def f1(self):\n",
    "      print(\"Hello\")\n",
    "        \n",
    "class B(A):\n",
    "    y=20\n",
    "    \n",
    "ob=B()\n",
    "print(ob.x)\n",
    "print(ob.y)\n",
    "ob.f1()"
   ]
  },
  {
   "cell_type": "code",
   "execution_count": 23,
   "id": "a9f6f41d",
   "metadata": {},
   "outputs": [
    {
     "name": "stdout",
     "output_type": "stream",
     "text": [
      "10\n",
      "20\n",
      "Hello\n",
      "Apple\n"
     ]
    }
   ],
   "source": [
    "class A:\n",
    "    x=10\n",
    "    def f1(self):\n",
    "      print(\"Hello\")\n",
    "        \n",
    "class B(A):\n",
    "    y=20\n",
    "    \n",
    "    def k1(self):\n",
    "        print(\"Apple\")\n",
    "    \n",
    "ob=B()\n",
    "print(ob.x)\n",
    "print(ob.y)\n",
    "ob.f1()\n",
    "ob.k1()"
   ]
  },
  {
   "cell_type": "code",
   "execution_count": 25,
   "id": "52f60ab3",
   "metadata": {},
   "outputs": [
    {
     "name": "stdout",
     "output_type": "stream",
     "text": [
      "10\n",
      "20\n",
      "Orange\n"
     ]
    }
   ],
   "source": [
    "class A:\n",
    "    x=10\n",
    "    def f1(self):\n",
    "          print(\"Hello\")\n",
    "        \n",
    "class B(A):\n",
    "    y=20\n",
    "    \n",
    "    def f1(self):\n",
    "        print(\"Orange\")\n",
    "    \n",
    "ob=B()\n",
    "print(ob.x)\n",
    "print(ob.y)\n",
    "ob.f1()\n"
   ]
  },
  {
   "cell_type": "code",
   "execution_count": 26,
   "id": "e52bf86e",
   "metadata": {},
   "outputs": [
    {
     "name": "stdout",
     "output_type": "stream",
     "text": [
      "10\n",
      "20\n",
      "Orange\n",
      "Apple\n"
     ]
    }
   ],
   "source": [
    "class A:\n",
    "    x=10\n",
    "    def f1(self):\n",
    "          print(\"Hello\")\n",
    "        \n",
    "    def k1(self):\n",
    "        print(\"Delhi\")\n",
    "class B(A):\n",
    "    y=20\n",
    "    \n",
    "    def f1(self):\n",
    "        print(\"Orange\")\n",
    "    \n",
    "    def k1(self):\n",
    "        print(\"Apple\")\n",
    "    \n",
    "ob=B()\n",
    "print(ob.x)\n",
    "print(ob.y)\n",
    "ob.f1()\n",
    "ob.k1()"
   ]
  },
  {
   "cell_type": "markdown",
   "id": "6b7167ee",
   "metadata": {},
   "source": [
    "# Encapsulation"
   ]
  },
  {
   "cell_type": "code",
   "execution_count": 31,
   "id": "287433fc",
   "metadata": {},
   "outputs": [
    {
     "name": "stdout",
     "output_type": "stream",
     "text": [
      "10\n",
      "20\n"
     ]
    }
   ],
   "source": [
    "class A:\n",
    "    x=10\n",
    "   \n",
    "class B(A):\n",
    "    y=20\n",
    "    \n",
    "ob=B()\n",
    "print(ob.x)\n",
    "print(ob.y)\n"
   ]
  },
  {
   "cell_type": "code",
   "execution_count": 30,
   "id": "55d11a4d",
   "metadata": {},
   "outputs": [
    {
     "name": "stdout",
     "output_type": "stream",
     "text": [
      "10\n",
      "20\n"
     ]
    }
   ],
   "source": [
    "class A:\n",
    "    _x=10\n",
    "   \n",
    "class B(A):\n",
    "    y=20\n",
    "    \n",
    "ob=B()\n",
    "print(ob._x)\n",
    "print(ob.y)"
   ]
  },
  {
   "cell_type": "code",
   "execution_count": 32,
   "id": "96e49a14",
   "metadata": {},
   "outputs": [
    {
     "name": "stdout",
     "output_type": "stream",
     "text": [
      "10\n",
      "30\n"
     ]
    }
   ],
   "source": [
    "class Box:\n",
    "    length = 10\n",
    "    \n",
    "    def f1(self):\n",
    "        print(self.length+20)\n",
    "        \n",
    "ob = Box()\n",
    "print(ob.length)\n",
    "ob.f1()"
   ]
  },
  {
   "cell_type": "code",
   "execution_count": 37,
   "id": "17e0b2f7",
   "metadata": {},
   "outputs": [
    {
     "name": "stdout",
     "output_type": "stream",
     "text": [
      "Alice\n",
      "Bob\n"
     ]
    }
   ],
   "source": [
    "class Person:\n",
    "    def __init__(self,name):\n",
    "        self._name = name\n",
    "    def get_name(self):\n",
    "        return self._name\n",
    "    def set_name(self,new_name):\n",
    "        self._name = new_name\n",
    "person=Person(\"Alice\")\n",
    "print(person.get_name())\n",
    "person.set_name(\"Bob\")\n",
    "print(person.get_name())"
   ]
  },
  {
   "cell_type": "code",
   "execution_count": 38,
   "id": "b8987b3a",
   "metadata": {},
   "outputs": [
    {
     "name": "stdout",
     "output_type": "stream",
     "text": [
      "25\n",
      "35\n"
     ]
    }
   ],
   "source": [
    "class Person:\n",
    "\n",
    "    def __init__(self,age):\n",
    "        self._age = age\n",
    "\n",
    "    def setter(self,nage):\n",
    "        self._age = nage\n",
    "\n",
    "    def getter(self):\n",
    "        return self._age\n",
    "\n",
    "\n",
    "person1 = Person(25)\n",
    "person2 = Person(35)\n",
    "\n",
    "print(person1.getter())\n",
    "print(person2.getter())"
   ]
  },
  {
   "cell_type": "code",
   "execution_count": 43,
   "id": "f18ae644",
   "metadata": {},
   "outputs": [
    {
     "name": "stdout",
     "output_type": "stream",
     "text": [
      "25\n"
     ]
    }
   ],
   "source": [
    "class Person:\n",
    "    def __init__(self,age):\n",
    "        self._age = age\n",
    "        \n",
    "    def setter(self,nage):\n",
    "        if nage<60:\n",
    "            self._age = nage\n",
    "            \n",
    "    def getter(self):\n",
    "        return self._age\n",
    "    \n",
    "    \n",
    "person1 = Person(25)\n",
    "\n",
    "\n",
    "\n",
    "print(person1.getter())"
   ]
  },
  {
   "cell_type": "code",
   "execution_count": 44,
   "id": "e2d6d787",
   "metadata": {},
   "outputs": [
    {
     "name": "stdout",
     "output_type": "stream",
     "text": [
      "20\n",
      "10\n",
      "Hello\n",
      "Welcome\n"
     ]
    }
   ],
   "source": [
    "class A:\n",
    "    x=10\n",
    "    def f1(self):\n",
    "        print(\"Welcome\")\n",
    "class B(A):\n",
    "    y=20\n",
    "    \n",
    "    def f1(self):\n",
    "        print(\"Hello\")\n",
    "        print(\"Welcome\")\n",
    "ob=B()\n",
    "print(ob.y)\n",
    "print(ob.x)\n",
    "ob.f1()"
   ]
  },
  {
   "cell_type": "code",
   "execution_count": 45,
   "id": "1cec90f3",
   "metadata": {},
   "outputs": [
    {
     "name": "stdout",
     "output_type": "stream",
     "text": [
      "20\n",
      "10\n",
      "Hello\n",
      "Welcome\n"
     ]
    }
   ],
   "source": [
    "class A:\n",
    "    x=10\n",
    "    def f1(self):\n",
    "        print(\"Welcome\")\n",
    "class B(A):\n",
    "    y=20\n",
    "    \n",
    "    def f1(self):\n",
    "        print(\"Hello\")\n",
    "        super().f1()\n",
    "ob=B()\n",
    "print(ob.y)\n",
    "print(ob.x)\n",
    "ob.f1()"
   ]
  },
  {
   "cell_type": "code",
   "execution_count": null,
   "id": "36661612",
   "metadata": {},
   "outputs": [],
   "source": []
  }
 ],
 "metadata": {
  "kernelspec": {
   "display_name": "Python 3 (ipykernel)",
   "language": "python",
   "name": "python3"
  },
  "language_info": {
   "codemirror_mode": {
    "name": "ipython",
    "version": 3
   },
   "file_extension": ".py",
   "mimetype": "text/x-python",
   "name": "python",
   "nbconvert_exporter": "python",
   "pygments_lexer": "ipython3",
   "version": "3.9.12"
  }
 },
 "nbformat": 4,
 "nbformat_minor": 5
}
